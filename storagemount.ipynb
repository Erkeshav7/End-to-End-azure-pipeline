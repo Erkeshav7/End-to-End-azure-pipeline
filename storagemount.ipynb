{
  "cells": [
    {
      "cell_type": "code",
      "execution_count": null,
      "metadata": {
        "application/vnd.databricks.v1+cell": {
          "cellMetadata": {
            "byteLimit": 2048000,
            "rowLimit": 10000
          },
          "inputWidgets": {},
          "nuid": "8d47c7ce-fe9b-4038-ba49-d01580ba2d0a",
          "showTitle": false,
          "title": ""
        },
        "id": "d7_wocIBO_1p"
      },
      "outputs": [],
      "source": [
        "configs = {\n",
        "  \"fs.azure.account.auth.type\": \"CustomAccessToken\",\n",
        "  \"fs.azure.account.custom.token.provider.class\": spark.conf.get(\"spark.databricks.passthrough.adls.gen2.tokenProviderClassName\")\n",
        "}\n",
        "\n",
        "# Optionally, you can add <directory-name> to the source URI of your mount point.\n",
        "dbutils.fs.mount(\n",
        "  source = \"abfss://bronze@datalakestoragekeshav_7.dfs.core.windows.net/\",\n",
        "  mount_point = \"/mnt/bronze\",\n",
        "  extra_configs = configs)"
      ]
    },
    {
      "cell_type": "code",
      "execution_count": null,
      "metadata": {
        "application/vnd.databricks.v1+cell": {
          "cellMetadata": {
            "byteLimit": 2048000,
            "rowLimit": 10000
          },
          "inputWidgets": {},
          "nuid": "ef735375-3a97-449d-b13f-3b5fb137e955",
          "showTitle": false,
          "title": ""
        },
        "id": "hkYzP218O_1r"
      },
      "outputs": [],
      "source": [
        "dbutils.fs.ls(\"/mnt/bronze/SalesLT/\")"
      ]
    },
    {
      "cell_type": "code",
      "execution_count": null,
      "metadata": {
        "application/vnd.databricks.v1+cell": {
          "cellMetadata": {
            "byteLimit": 2048000,
            "rowLimit": 10000
          },
          "inputWidgets": {},
          "nuid": "fbdf9915-ff58-48c8-90b0-2aa7b9d5a2f3",
          "showTitle": false,
          "title": ""
        },
        "id": "3U7Lt61nO_1s"
      },
      "outputs": [],
      "source": [
        "configs = {\n",
        "  \"fs.azure.account.auth.type\": \"CustomAccessToken\",\n",
        "  \"fs.azure.account.custom.token.provider.class\": spark.conf.get(\"spark.databricks.passthrough.adls.gen2.tokenProviderClassName\")\n",
        "}\n",
        "\n",
        "# Optionally, you can add <directory-name> to the source URI of your mount point.\n",
        "dbutils.fs.mount(\n",
        "  source = \"abfss://silver@datalakestoragekeshav_7.dfs.core.windows.net/\",\n",
        "  mount_point = \"/mnt/silver\",\n",
        "  extra_configs = configs)"
      ]
    },
    {
      "cell_type": "code",
      "execution_count": null,
      "metadata": {
        "application/vnd.databricks.v1+cell": {
          "cellMetadata": {
            "byteLimit": 2048000,
            "rowLimit": 10000
          },
          "inputWidgets": {},
          "nuid": "cb26c20c-630b-47a0-9235-122b47d8ae1c",
          "showTitle": false,
          "title": ""
        },
        "id": "5-w4OUmoO_1s"
      },
      "outputs": [],
      "source": [
        "configs = {\n",
        "  \"fs.azure.account.auth.type\": \"CustomAccessToken\",\n",
        "  \"fs.azure.account.custom.token.provider.class\": spark.conf.get(\"spark.databricks.passthrough.adls.gen2.tokenProviderClassName\")\n",
        "}\n",
        "\n",
        "# Optionally, you can add <directory-name> to the source URI of your mount point.\n",
        "dbutils.fs.mount(\n",
        "  source = \"abfss://gold@datalakestoragekeshav_7.dfs.core.windows.net/\",\n",
        "  mount_point = \"/mnt/gold\",\n",
        "  extra_configs = configs)"
      ]
    }
  ],
  "metadata": {
    "application/vnd.databricks.v1+notebook": {
      "dashboards": [],
      "language": "python",
      "notebookMetadata": {
        "pythonIndentUnit": 4
      },
      "notebookName": "storagemount",
      "widgets": {}
    },
    "colab": {
      "provenance": []
    }
  },
  "nbformat": 4,
  "nbformat_minor": 0
}